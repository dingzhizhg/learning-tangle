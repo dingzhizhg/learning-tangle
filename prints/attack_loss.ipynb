{
 "cells": [
  {
   "cell_type": "code",
   "execution_count": 4,
   "id": "ad22f2f7",
   "metadata": {},
   "outputs": [],
   "source": [
    "# %pip install matplotlib\n",
    "# %pip install numpy\n",
    "# %pip install seaborn\n",
    "\n",
    "import matplotlib.pyplot as plt\n",
    "import matplotlib as mpl\n",
    "import numpy as np\n",
    "import pandas as pd"
   ]
  },
  {
   "cell_type": "code",
   "execution_count": 5,
   "id": "76c86279",
   "metadata": {},
   "outputs": [],
   "source": [
    "def read_accuracy_from_txt(file_path):\n",
    "    accuracy_list = []\n",
    "    with open(file_path, 'r', encoding='utf-8') as file:\n",
    "        for line in file:\n",
    "            line = line.strip()\n",
    "            # 跳过空行和注释行\n",
    "            if not line or line.startswith('#'):\n",
    "                continue\n",
    "            \n",
    "            try:\n",
    "                data_tuple = eval(line)\n",
    "                if isinstance(data_tuple, tuple) and len(data_tuple) > 0:\n",
    "                    data_dict = data_tuple[0]  # 取元组的第一个元素\n",
    "                    if isinstance(data_dict, dict) and 'accuracy' in data_dict:\n",
    "                        accuracy_list.append(data_dict['accuracy'])\n",
    "            except:\n",
    "                continue\n",
    "    \n",
    "    return accuracy_list"
   ]
  },
  {
   "cell_type": "code",
   "execution_count": 6,
   "id": "91d1c82f",
   "metadata": {},
   "outputs": [],
   "source": [
    "iid_2 = read_accuracy_from_txt('/root/learning-tangle/prints/mnist/mnist-fedavg.txt')\n",
    "iid_3 = read_accuracy_from_txt('/root/learning-tangle/prints/mnist/mnist-bafl.txt')\n",
    "iid_4 = read_accuracy_from_txt('/root/learning-tangle/prints/mnist/mnist-tangle.txt')\n",
    "iid_5 = read_accuracy_from_txt('/root/learning-tangle/prints/mnist/mnist-tanglecta.txt')\n",
    "\n",
    "flit_2 = read_accuracy_from_txt('/root/learning-tangle/prints/zlabelflip/3-fedavg.txt')\n",
    "flit_3 = read_accuracy_from_txt('/root/learning-tangle/prints/zlabelflip/3-bafl.txt')\n",
    "flit_4 = read_accuracy_from_txt('/root/learning-tangle/prints/zlabelflip/3-tangle.txt')\n",
    "flit_5 = read_accuracy_from_txt('/root/learning-tangle/prints/zlabelflip/3-tanglecta.txt')\n",
    "\n",
    "lazy_2 = read_accuracy_from_txt('/root/learning-tangle/prints/zlazy/3-fedavg.txt')\n",
    "lazy_3 = read_accuracy_from_txt('/root/learning-tangle/prints/zlazy/3-bafl.txt')\n",
    "lazy_4 = read_accuracy_from_txt('/root/learning-tangle/prints/zlazy/3-tangle.txt')\n",
    "lazy_5 = read_accuracy_from_txt('/root/learning-tangle/prints/zlazy/3-tanglecta.txt')"
   ]
  },
  {
   "cell_type": "code",
   "execution_count": 9,
   "id": "7d2c3212",
   "metadata": {},
   "outputs": [
    {
     "name": "stdout",
     "output_type": "stream",
     "text": [
      "表格1: IID准确率 - 标签翻转攻击准确率（不同轮次）\n",
      "  Method   Round 0  Round 25  Round 50  Round 75  Round 100\n",
      "  FedAvg -0.000398  0.005505  0.152174  0.123956   0.044212\n",
      "    BAFL  0.000000  0.043150  0.052474  0.012971   0.033195\n",
      "TangleFL -0.004500  0.216701  0.114706  0.043697   0.016578\n",
      " ConDAG -0.104500  0.056993  0.069756  0.014395   0.018016\n",
      "\n",
      "表格2: IID准确率 - 懒惰攻击准确率（不同轮次）\n",
      "  Method   Round 0  Round 25  Round 50  Round 75  Round 100\n",
      "  FedAvg -0.006252  0.133502  0.080293 -0.008491   0.004742\n",
      "    BAFL -0.000541  0.012013  0.016737  0.016070   0.022585\n",
      "TangleFL -0.005041  0.017691  0.034597  0.022549   0.021278\n",
      " ConDAG -0.005041  0.014771  0.014724  0.013355   0.009695\n"
     ]
    }
   ],
   "source": [
    "# 定义轮次索引\n",
    "rounds = [0, 25, 50, 75, 100]\n",
    "\n",
    "# 创建第一张表格：IID - 标签翻转攻击（不同轮次）\n",
    "flip_diff_data = {\n",
    "    'Method': ['FedAvg', 'BAFL', 'TangleFL', 'ConDAG']\n",
    "}\n",
    "\n",
    "for round_idx in rounds:\n",
    "    if round_idx < len(iid_2) and round_idx < len(flit_2):\n",
    "        flip_diff_data[f'Round {round_idx}'] = [\n",
    "            iid_2[round_idx] - flit_2[round_idx],\n",
    "            iid_3[round_idx] - flit_3[round_idx],\n",
    "            iid_4[round_idx] - flit_4[round_idx],\n",
    "            iid_5[round_idx] - flit_5[round_idx]\n",
    "        ]\n",
    "\n",
    "flip_df = pd.DataFrame(flip_diff_data)\n",
    "print(\"表格1: IID准确率 - 标签翻转攻击准确率（不同轮次）\")\n",
    "print(flip_df.to_string(index=False))\n",
    "print()\n",
    "\n",
    "# 创建第二张表格：IID - 懒惰攻击（不同轮次）\n",
    "lazy_diff_data = {\n",
    "    'Method': ['FedAvg', 'BAFL', 'TangleFL', 'ConDAG']\n",
    "}\n",
    "\n",
    "for round_idx in rounds:\n",
    "    if round_idx < len(iid_2) and round_idx < len(lazy_2):\n",
    "        lazy_diff_data[f'Round {round_idx}'] = [\n",
    "            iid_2[round_idx] - lazy_2[round_idx],\n",
    "            iid_3[round_idx] - lazy_3[round_idx],\n",
    "            iid_4[round_idx] - lazy_4[round_idx],\n",
    "            iid_5[round_idx] - lazy_5[round_idx]\n",
    "        ]\n",
    "\n",
    "lazy_df = pd.DataFrame(lazy_diff_data)\n",
    "print(\"表格2: IID准确率 - 懒惰攻击准确率（不同轮次）\")\n",
    "print(lazy_df.to_string(index=False))"
   ]
  }
 ],
 "metadata": {
  "kernelspec": {
   "display_name": "base",
   "language": "python",
   "name": "python3"
  },
  "language_info": {
   "codemirror_mode": {
    "name": "ipython",
    "version": 3
   },
   "file_extension": ".py",
   "mimetype": "text/x-python",
   "name": "python",
   "nbconvert_exporter": "python",
   "pygments_lexer": "ipython3",
   "version": "3.11.5"
  }
 },
 "nbformat": 4,
 "nbformat_minor": 5
}
