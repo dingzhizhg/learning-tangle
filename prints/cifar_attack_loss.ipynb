{
 "cells": [
  {
   "cell_type": "code",
   "execution_count": 10,
   "id": "ad22f2f7",
   "metadata": {},
   "outputs": [],
   "source": [
    "# %pip install matplotlib\n",
    "# %pip install numpy\n",
    "# %pip install seaborn\n",
    "\n",
    "import matplotlib.pyplot as plt\n",
    "import matplotlib as mpl\n",
    "import numpy as np\n",
    "import pandas as pd"
   ]
  },
  {
   "cell_type": "code",
   "execution_count": 11,
   "id": "76c86279",
   "metadata": {},
   "outputs": [],
   "source": [
    "def read_accuracy_from_txt(file_path):\n",
    "    accuracy_list = []\n",
    "    with open(file_path, 'r', encoding='utf-8') as file:\n",
    "        for line in file:\n",
    "            line = line.strip()\n",
    "            # 跳过空行和注释行\n",
    "            if not line or line.startswith('#'):\n",
    "                continue\n",
    "            \n",
    "            try:\n",
    "                data_tuple = eval(line)\n",
    "                if isinstance(data_tuple, tuple) and len(data_tuple) > 0:\n",
    "                    data_dict = data_tuple[0]  # 取元组的第一个元素\n",
    "                    if isinstance(data_dict, dict) and 'accuracy' in data_dict:\n",
    "                        accuracy_list.append(data_dict['accuracy'])\n",
    "            except:\n",
    "                continue\n",
    "    \n",
    "    return accuracy_list"
   ]
  },
  {
   "cell_type": "code",
   "execution_count": 12,
   "id": "91d1c82f",
   "metadata": {},
   "outputs": [],
   "source": [
    "iid_2 = read_accuracy_from_txt('/root/learning-tangle/prints/mnist/mnist-fedavg.txt')\n",
    "iid_3 = read_accuracy_from_txt('/root/learning-tangle/prints/mnist/mnist-bafl.txt')\n",
    "iid_4 = read_accuracy_from_txt('/root/learning-tangle/prints/mnist/mnist-tangle.txt')\n",
    "iid_5 = read_accuracy_from_txt('/root/learning-tangle/prints/mnist/mnist-tanglecta.txt')\n",
    "\n",
    "flit_2 = read_accuracy_from_txt('/root/learning-tangle/prints/zzclabelflip/cifar-3-fedavg.txt')\n",
    "flit_3 = read_accuracy_from_txt('/root/learning-tangle/prints/zzclabelflip/cifar-3-bafl.txt')\n",
    "flit_4 = read_accuracy_from_txt('/root/learning-tangle/prints/zzclabelflip/cifar-3-tangle.txt')\n",
    "flit_5 = read_accuracy_from_txt('/root/learning-tangle/prints/zzclabelflip/cifar-3-condag.txt')\n",
    "\n",
    "lazy_2 = read_accuracy_from_txt('/root/learning-tangle/prints/zzclazy/cifar-3-fedavg.txt')\n",
    "lazy_3 = read_accuracy_from_txt('/root/learning-tangle/prints/zzclazy/cifar-3-bafl.txt')\n",
    "lazy_4 = read_accuracy_from_txt('/root/learning-tangle/prints/zzclazy/cifar-3-tangle.txt')\n",
    "lazy_5 = read_accuracy_from_txt('/root/learning-tangle/prints/zzclazy/cifar-3-condag.txt')"
   ]
  },
  {
   "cell_type": "code",
   "execution_count": 13,
   "id": "7d2c3212",
   "metadata": {},
   "outputs": [
    {
     "name": "stdout",
     "output_type": "stream",
     "text": [
      "表格1: IID准确率 - 标签翻转攻击准确率（不同轮次）\n",
      "  Method   Round 0  Round 25  Round 50  Round 75  Round 100\n",
      "  FedAvg -0.009307  0.458478  0.543288  0.384810   0.394171\n",
      "    BAFL -0.008909  0.436138  0.455300  0.407793   0.404724\n",
      "TangleFL -0.013408  0.429825  0.462781  0.396377   0.429323\n",
      "  ConDAG -0.013408  0.418938  0.422541  0.356324   0.432704\n",
      "\n",
      "表格2: IID准确率 - 懒惰攻击准确率（不同轮次）\n",
      "  Method   Round 0  Round 25  Round 50  Round 75  Round 100\n",
      "  FedAvg -0.009307  0.428568  0.396062  0.385663   0.372953\n",
      "    BAFL -0.008909  0.437175  0.407177  0.388609   0.393812\n",
      "TangleFL -0.013408  0.415846  0.416251  0.392119   0.392341\n",
      "  ConDAG -0.013408  0.412938  0.404808  0.382104   0.390681\n"
     ]
    }
   ],
   "source": [
    "# 定义轮次索引\n",
    "rounds = [0, 25, 50, 75, 100]\n",
    "\n",
    "# 创建第一张表格：IID - 标签翻转攻击（不同轮次）\n",
    "flip_diff_data = {\n",
    "    'Method': ['FedAvg', 'BAFL', 'TangleFL', 'ConDAG']\n",
    "}\n",
    "\n",
    "for round_idx in rounds:\n",
    "    if round_idx < len(iid_2) and round_idx < len(flit_2):\n",
    "        flip_diff_data[f'Round {round_idx}'] = [\n",
    "            iid_2[round_idx] - flit_2[round_idx],\n",
    "            iid_3[round_idx] - flit_3[round_idx],\n",
    "            iid_4[round_idx] - flit_4[round_idx],\n",
    "            iid_5[round_idx] - flit_5[round_idx]\n",
    "        ]\n",
    "\n",
    "flip_df = pd.DataFrame(flip_diff_data)\n",
    "print(\"表格1: IID准确率 - 标签翻转攻击准确率（不同轮次）\")\n",
    "print(flip_df.to_string(index=False))\n",
    "print()\n",
    "\n",
    "# 创建第二张表格：IID - 懒惰攻击（不同轮次）\n",
    "lazy_diff_data = {\n",
    "    'Method': ['FedAvg', 'BAFL', 'TangleFL', 'ConDAG']\n",
    "}\n",
    "\n",
    "for round_idx in rounds:\n",
    "    if round_idx < len(iid_2) and round_idx < len(lazy_2):\n",
    "        lazy_diff_data[f'Round {round_idx}'] = [\n",
    "            iid_2[round_idx] - lazy_2[round_idx],\n",
    "            iid_3[round_idx] - lazy_3[round_idx],\n",
    "            iid_4[round_idx] - lazy_4[round_idx],\n",
    "            iid_5[round_idx] - lazy_5[round_idx]\n",
    "        ]\n",
    "\n",
    "lazy_df = pd.DataFrame(lazy_diff_data)\n",
    "print(\"表格2: IID准确率 - 懒惰攻击准确率（不同轮次）\")\n",
    "print(lazy_df.to_string(index=False))"
   ]
  }
 ],
 "metadata": {
  "kernelspec": {
   "display_name": "base",
   "language": "python",
   "name": "python3"
  },
  "language_info": {
   "codemirror_mode": {
    "name": "ipython",
    "version": 3
   },
   "file_extension": ".py",
   "mimetype": "text/x-python",
   "name": "python",
   "nbconvert_exporter": "python",
   "pygments_lexer": "ipython3",
   "version": "3.11.5"
  }
 },
 "nbformat": 4,
 "nbformat_minor": 5
}
